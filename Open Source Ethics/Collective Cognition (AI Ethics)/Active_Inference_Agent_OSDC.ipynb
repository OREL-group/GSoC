{
  "cells": [
    {
      "cell_type": "markdown",
      "metadata": {
        "id": "view-in-github",
        "colab_type": "text"
      },
      "source": [
        "<a href=\"https://colab.research.google.com/github/OREL-group/GSoC/blob/whatcoloris-netlogo/Open%20Source%20Ethics/Collective%20Cognition%20(AI%20Ethics)/Active_Inference_Agent_OSDC.ipynb\" target=\"_parent\"><img src=\"https://colab.research.google.com/assets/colab-badge.svg\" alt=\"Open In Colab\"/></a>"
      ]
    },
    {
      "cell_type": "markdown",
      "metadata": {
        "id": "5BAe-08WglCe"
      },
      "source": [
        "# Tutorial 2:  the `Agent` API\n",
        "\n",
        "[![Open in Colab](https://colab.research.google.com/assets/colab-badge.svg)](https://colab.research.google.com/github/infer-actively/pymdp/blob/master/docs/notebooks/using_the_agent_class.ipynb)\n",
        "\n",
        "*Author: Conor Heins*\n",
        "\n",
        "This tutorial introduces the `Agent` class, the main API offered by `pymdp` that allows you to abstract away all the mathematical nuances involved in running active inference processes. All you have to do is build a generative model in terms of `A`, `B`, `C`, and `D` arrays, plug them into the `Agent()` constructor, and then start running active inference processes using the desired functions of the `Agent` class, like `self.infer_states()` and `self.infer_policies()`. \n",
        "\n",
        "We demonstrate the use of the `Agent` class by building an active inference agent to play a simple explore/exploit task, what we call the \"epistemic 2-armed bandit\". The task structure is identical to the \"explore/exploit\" task described in Smith et al. (2022): [\"A Step-by-Step Tutorial on Active Inference Modelling and its Application to Empirical Data\"](https://www.sciencedirect.com/science/article/pii/S0022249621000973). The task is a modified version of a classic multi-armed bandit problem, with particular changes that make it well suited to demonstrating the information-availing nature of active inference in discrete state spaces."
      ]
    },
    {
      "cell_type": "markdown",
      "metadata": {
        "id": "rkN3Nj6KglCm"
      },
      "source": [
        "*Note*: When running this notebook in Google Colab, you may have to run `!pip install inferactively-pymdp` at the top of the notebook, before you can `import pymdp`. That cell is left commented out below, in case you are running this notebook from Google Colab."
      ]
    },
    {
      "cell_type": "code",
      "execution_count": 50,
      "metadata": {
        "id": "CE5S0DS3glCo",
        "outputId": "042933fe-9fb7-4668-dc79-9002b9f7cd21",
        "colab": {
          "base_uri": "https://localhost:8080/"
        }
      },
      "outputs": [
        {
          "output_type": "stream",
          "name": "stdout",
          "text": [
            "Looking in indexes: https://pypi.org/simple, https://us-python.pkg.dev/colab-wheels/public/simple/\n",
            "Requirement already satisfied: inferactively-pymdp in /usr/local/lib/python3.7/dist-packages (0.0.5)\n",
            "Requirement already satisfied: pyparsing>=2.4.7 in /usr/local/lib/python3.7/dist-packages (from inferactively-pymdp) (3.0.9)\n",
            "Requirement already satisfied: Pillow>=8.2.0pluggy>=0.13.1 in /usr/local/lib/python3.7/dist-packages (from inferactively-pymdp) (9.2.0)\n",
            "Requirement already satisfied: nose>=1.3.7 in /usr/local/lib/python3.7/dist-packages (from inferactively-pymdp) (1.3.7)\n",
            "Requirement already satisfied: pytz>=2020.5 in /usr/local/lib/python3.7/dist-packages (from inferactively-pymdp) (2022.2.1)\n",
            "Requirement already satisfied: autograd>=1.3 in /usr/local/lib/python3.7/dist-packages (from inferactively-pymdp) (1.4)\n",
            "Requirement already satisfied: pytest>=6.2.1 in /usr/local/lib/python3.7/dist-packages (from inferactively-pymdp) (7.1.2)\n",
            "Requirement already satisfied: sphinx-rtd-theme>=0.4 in /usr/local/lib/python3.7/dist-packages (from inferactively-pymdp) (1.0.0)\n",
            "Requirement already satisfied: myst-nb>=0.13.1 in /usr/local/lib/python3.7/dist-packages (from inferactively-pymdp) (0.16.0)\n",
            "Requirement already satisfied: iniconfig>=1.1.1 in /usr/local/lib/python3.7/dist-packages (from inferactively-pymdp) (1.1.1)\n",
            "Requirement already satisfied: seaborn>=0.11.1 in /usr/local/lib/python3.7/dist-packages (from inferactively-pymdp) (0.11.2)\n",
            "Requirement already satisfied: kiwisolver>=1.3.1 in /usr/local/lib/python3.7/dist-packages (from inferactively-pymdp) (1.4.4)\n",
            "Requirement already satisfied: matplotlib>=3.1.3 in /usr/local/lib/python3.7/dist-packages (from inferactively-pymdp) (3.2.2)\n",
            "Requirement already satisfied: typing-extensions>=3.7.4.3 in /usr/local/lib/python3.7/dist-packages (from inferactively-pymdp) (4.1.1)\n",
            "Requirement already satisfied: attrs>=20.3.0 in /usr/local/lib/python3.7/dist-packages (from inferactively-pymdp) (22.1.0)\n",
            "Requirement already satisfied: python-dateutil>=2.8.1 in /usr/local/lib/python3.7/dist-packages (from inferactively-pymdp) (2.8.2)\n",
            "Requirement already satisfied: xlsxwriter>=1.4.3 in /usr/local/lib/python3.7/dist-packages (from inferactively-pymdp) (3.0.3)\n",
            "Requirement already satisfied: cycler>=0.10.0 in /usr/local/lib/python3.7/dist-packages (from inferactively-pymdp) (0.11.0)\n",
            "Requirement already satisfied: toml>=0.10.2 in /usr/local/lib/python3.7/dist-packages (from inferactively-pymdp) (0.10.2)\n",
            "Requirement already satisfied: py>=1.10.0 in /usr/local/lib/python3.7/dist-packages (from inferactively-pymdp) (1.11.0)\n",
            "Requirement already satisfied: six>=1.15.0 in /usr/local/lib/python3.7/dist-packages (from inferactively-pymdp) (1.15.0)\n",
            "Requirement already satisfied: numpy>=1.19.5 in /usr/local/lib/python3.7/dist-packages (from inferactively-pymdp) (1.21.6)\n",
            "Requirement already satisfied: scipy>=1.6.0 in /usr/local/lib/python3.7/dist-packages (from inferactively-pymdp) (1.7.3)\n",
            "Requirement already satisfied: openpyxl>=3.0.7 in /usr/local/lib/python3.7/dist-packages (from inferactively-pymdp) (3.0.10)\n",
            "Requirement already satisfied: packaging>=20.8 in /usr/local/lib/python3.7/dist-packages (from inferactively-pymdp) (21.3)\n",
            "Requirement already satisfied: pandas>=1.2.4 in /usr/local/lib/python3.7/dist-packages (from inferactively-pymdp) (1.3.5)\n",
            "Requirement already satisfied: future>=0.15.2 in /usr/local/lib/python3.7/dist-packages (from autograd>=1.3->inferactively-pymdp) (0.16.0)\n",
            "Requirement already satisfied: pyyaml in /usr/local/lib/python3.7/dist-packages (from myst-nb>=0.13.1->inferactively-pymdp) (6.0)\n",
            "Requirement already satisfied: sphinx-togglebutton~=0.3.0 in /usr/local/lib/python3.7/dist-packages (from myst-nb>=0.13.1->inferactively-pymdp) (0.3.2)\n",
            "Requirement already satisfied: ipykernel in /usr/local/lib/python3.7/dist-packages (from myst-nb>=0.13.1->inferactively-pymdp) (5.3.4)\n",
            "Requirement already satisfied: importlib_metadata in /usr/local/lib/python3.7/dist-packages (from myst-nb>=0.13.1->inferactively-pymdp) (4.12.0)\n",
            "Requirement already satisfied: sphinx<6,>=4 in /usr/local/lib/python3.7/dist-packages (from myst-nb>=0.13.1->inferactively-pymdp) (5.1.1)\n",
            "Requirement already satisfied: jupyter-cache~=0.5.0 in /usr/local/lib/python3.7/dist-packages (from myst-nb>=0.13.1->inferactively-pymdp) (0.5.0)\n",
            "Requirement already satisfied: myst-parser~=0.18.0 in /usr/local/lib/python3.7/dist-packages (from myst-nb>=0.13.1->inferactively-pymdp) (0.18.0)\n",
            "Requirement already satisfied: nbformat~=5.0 in /usr/local/lib/python3.7/dist-packages (from myst-nb>=0.13.1->inferactively-pymdp) (5.4.0)\n",
            "Requirement already satisfied: nbclient in /usr/local/lib/python3.7/dist-packages (from myst-nb>=0.13.1->inferactively-pymdp) (0.5.13)\n",
            "Requirement already satisfied: ipython in /usr/local/lib/python3.7/dist-packages (from myst-nb>=0.13.1->inferactively-pymdp) (7.9.0)\n",
            "Requirement already satisfied: sqlalchemy<1.5,>=1.3.12 in /usr/local/lib/python3.7/dist-packages (from jupyter-cache~=0.5.0->myst-nb>=0.13.1->inferactively-pymdp) (1.4.40)\n",
            "Requirement already satisfied: tabulate in /usr/local/lib/python3.7/dist-packages (from jupyter-cache~=0.5.0->myst-nb>=0.13.1->inferactively-pymdp) (0.8.10)\n",
            "Requirement already satisfied: click in /usr/local/lib/python3.7/dist-packages (from jupyter-cache~=0.5.0->myst-nb>=0.13.1->inferactively-pymdp) (7.1.2)\n",
            "Requirement already satisfied: jinja2 in /usr/local/lib/python3.7/dist-packages (from myst-parser~=0.18.0->myst-nb>=0.13.1->inferactively-pymdp) (2.11.3)\n",
            "Requirement already satisfied: docutils<0.19,>=0.15 in /usr/local/lib/python3.7/dist-packages (from myst-parser~=0.18.0->myst-nb>=0.13.1->inferactively-pymdp) (0.17.1)\n",
            "Requirement already satisfied: markdown-it-py<3.0.0,>=1.0.0 in /usr/local/lib/python3.7/dist-packages (from myst-parser~=0.18.0->myst-nb>=0.13.1->inferactively-pymdp) (2.1.0)\n",
            "Requirement already satisfied: mdit-py-plugins~=0.3.0 in /usr/local/lib/python3.7/dist-packages (from myst-parser~=0.18.0->myst-nb>=0.13.1->inferactively-pymdp) (0.3.0)\n",
            "Requirement already satisfied: mdurl~=0.1 in /usr/local/lib/python3.7/dist-packages (from markdown-it-py<3.0.0,>=1.0.0->myst-parser~=0.18.0->myst-nb>=0.13.1->inferactively-pymdp) (0.1.2)\n",
            "Requirement already satisfied: nest-asyncio in /usr/local/lib/python3.7/dist-packages (from nbclient->myst-nb>=0.13.1->inferactively-pymdp) (1.5.5)\n",
            "Requirement already satisfied: traitlets>=5.0.0 in /usr/local/lib/python3.7/dist-packages (from nbclient->myst-nb>=0.13.1->inferactively-pymdp) (5.1.1)\n",
            "Requirement already satisfied: jupyter-client>=6.1.5 in /usr/local/lib/python3.7/dist-packages (from nbclient->myst-nb>=0.13.1->inferactively-pymdp) (6.1.12)\n",
            "Requirement already satisfied: tornado>=4.1 in /usr/local/lib/python3.7/dist-packages (from jupyter-client>=6.1.5->nbclient->myst-nb>=0.13.1->inferactively-pymdp) (5.1.1)\n",
            "Requirement already satisfied: pyzmq>=13 in /usr/local/lib/python3.7/dist-packages (from jupyter-client>=6.1.5->nbclient->myst-nb>=0.13.1->inferactively-pymdp) (23.2.1)\n",
            "Requirement already satisfied: jupyter-core>=4.6.0 in /usr/local/lib/python3.7/dist-packages (from jupyter-client>=6.1.5->nbclient->myst-nb>=0.13.1->inferactively-pymdp) (4.11.1)\n",
            "Requirement already satisfied: fastjsonschema in /usr/local/lib/python3.7/dist-packages (from nbformat~=5.0->myst-nb>=0.13.1->inferactively-pymdp) (2.16.1)\n",
            "Requirement already satisfied: jsonschema>=2.6 in /usr/local/lib/python3.7/dist-packages (from nbformat~=5.0->myst-nb>=0.13.1->inferactively-pymdp) (4.3.3)\n",
            "Requirement already satisfied: importlib-resources>=1.4.0 in /usr/local/lib/python3.7/dist-packages (from jsonschema>=2.6->nbformat~=5.0->myst-nb>=0.13.1->inferactively-pymdp) (5.9.0)\n",
            "Requirement already satisfied: pyrsistent!=0.17.0,!=0.17.1,!=0.17.2,>=0.14.0 in /usr/local/lib/python3.7/dist-packages (from jsonschema>=2.6->nbformat~=5.0->myst-nb>=0.13.1->inferactively-pymdp) (0.18.1)\n",
            "Requirement already satisfied: zipp>=3.1.0 in /usr/local/lib/python3.7/dist-packages (from importlib-resources>=1.4.0->jsonschema>=2.6->nbformat~=5.0->myst-nb>=0.13.1->inferactively-pymdp) (3.8.1)\n",
            "Requirement already satisfied: et-xmlfile in /usr/local/lib/python3.7/dist-packages (from openpyxl>=3.0.7->inferactively-pymdp) (1.1.0)\n",
            "Requirement already satisfied: pluggy<2.0,>=0.12 in /usr/local/lib/python3.7/dist-packages (from pytest>=6.2.1->inferactively-pymdp) (1.0.0)\n",
            "Requirement already satisfied: tomli>=1.0.0 in /usr/local/lib/python3.7/dist-packages (from pytest>=6.2.1->inferactively-pymdp) (2.0.1)\n",
            "Requirement already satisfied: sphinxcontrib-serializinghtml>=1.1.5 in /usr/local/lib/python3.7/dist-packages (from sphinx<6,>=4->myst-nb>=0.13.1->inferactively-pymdp) (1.1.5)\n",
            "Requirement already satisfied: requests>=2.5.0 in /usr/local/lib/python3.7/dist-packages (from sphinx<6,>=4->myst-nb>=0.13.1->inferactively-pymdp) (2.23.0)\n",
            "Requirement already satisfied: babel>=1.3 in /usr/local/lib/python3.7/dist-packages (from sphinx<6,>=4->myst-nb>=0.13.1->inferactively-pymdp) (2.10.3)\n",
            "Requirement already satisfied: sphinxcontrib-qthelp in /usr/local/lib/python3.7/dist-packages (from sphinx<6,>=4->myst-nb>=0.13.1->inferactively-pymdp) (1.0.3)\n",
            "Requirement already satisfied: sphinxcontrib-htmlhelp>=2.0.0 in /usr/local/lib/python3.7/dist-packages (from sphinx<6,>=4->myst-nb>=0.13.1->inferactively-pymdp) (2.0.0)\n",
            "Requirement already satisfied: Pygments>=2.0 in /usr/local/lib/python3.7/dist-packages (from sphinx<6,>=4->myst-nb>=0.13.1->inferactively-pymdp) (2.6.1)\n",
            "Requirement already satisfied: snowballstemmer>=1.1 in /usr/local/lib/python3.7/dist-packages (from sphinx<6,>=4->myst-nb>=0.13.1->inferactively-pymdp) (2.2.0)\n",
            "Requirement already satisfied: alabaster<0.8,>=0.7 in /usr/local/lib/python3.7/dist-packages (from sphinx<6,>=4->myst-nb>=0.13.1->inferactively-pymdp) (0.7.12)\n",
            "Requirement already satisfied: imagesize in /usr/local/lib/python3.7/dist-packages (from sphinx<6,>=4->myst-nb>=0.13.1->inferactively-pymdp) (1.4.1)\n",
            "Requirement already satisfied: sphinxcontrib-devhelp in /usr/local/lib/python3.7/dist-packages (from sphinx<6,>=4->myst-nb>=0.13.1->inferactively-pymdp) (1.0.2)\n",
            "Requirement already satisfied: sphinxcontrib-applehelp in /usr/local/lib/python3.7/dist-packages (from sphinx<6,>=4->myst-nb>=0.13.1->inferactively-pymdp) (1.0.2)\n",
            "Requirement already satisfied: sphinxcontrib-jsmath in /usr/local/lib/python3.7/dist-packages (from sphinx<6,>=4->myst-nb>=0.13.1->inferactively-pymdp) (1.0.1)\n",
            "Requirement already satisfied: MarkupSafe>=0.23 in /usr/local/lib/python3.7/dist-packages (from jinja2->myst-parser~=0.18.0->myst-nb>=0.13.1->inferactively-pymdp) (2.0.1)\n",
            "Requirement already satisfied: urllib3!=1.25.0,!=1.25.1,<1.26,>=1.21.1 in /usr/local/lib/python3.7/dist-packages (from requests>=2.5.0->sphinx<6,>=4->myst-nb>=0.13.1->inferactively-pymdp) (1.24.3)\n",
            "Requirement already satisfied: idna<3,>=2.5 in /usr/local/lib/python3.7/dist-packages (from requests>=2.5.0->sphinx<6,>=4->myst-nb>=0.13.1->inferactively-pymdp) (2.10)\n",
            "Requirement already satisfied: certifi>=2017.4.17 in /usr/local/lib/python3.7/dist-packages (from requests>=2.5.0->sphinx<6,>=4->myst-nb>=0.13.1->inferactively-pymdp) (2022.6.15)\n",
            "Requirement already satisfied: chardet<4,>=3.0.2 in /usr/local/lib/python3.7/dist-packages (from requests>=2.5.0->sphinx<6,>=4->myst-nb>=0.13.1->inferactively-pymdp) (3.0.4)\n",
            "Requirement already satisfied: wheel in /usr/local/lib/python3.7/dist-packages (from sphinx-togglebutton~=0.3.0->myst-nb>=0.13.1->inferactively-pymdp) (0.37.1)\n",
            "Requirement already satisfied: setuptools in /usr/local/lib/python3.7/dist-packages (from sphinx-togglebutton~=0.3.0->myst-nb>=0.13.1->inferactively-pymdp) (57.4.0)\n",
            "Requirement already satisfied: greenlet!=0.4.17 in /usr/local/lib/python3.7/dist-packages (from sqlalchemy<1.5,>=1.3.12->jupyter-cache~=0.5.0->myst-nb>=0.13.1->inferactively-pymdp) (1.1.2)\n",
            "Requirement already satisfied: jedi>=0.10 in /usr/local/lib/python3.7/dist-packages (from ipython->myst-nb>=0.13.1->inferactively-pymdp) (0.18.1)\n",
            "Requirement already satisfied: pexpect in /usr/local/lib/python3.7/dist-packages (from ipython->myst-nb>=0.13.1->inferactively-pymdp) (4.8.0)\n",
            "Requirement already satisfied: prompt-toolkit<2.1.0,>=2.0.0 in /usr/local/lib/python3.7/dist-packages (from ipython->myst-nb>=0.13.1->inferactively-pymdp) (2.0.10)\n",
            "Requirement already satisfied: decorator in /usr/local/lib/python3.7/dist-packages (from ipython->myst-nb>=0.13.1->inferactively-pymdp) (4.4.2)\n",
            "Requirement already satisfied: backcall in /usr/local/lib/python3.7/dist-packages (from ipython->myst-nb>=0.13.1->inferactively-pymdp) (0.2.0)\n",
            "Requirement already satisfied: pickleshare in /usr/local/lib/python3.7/dist-packages (from ipython->myst-nb>=0.13.1->inferactively-pymdp) (0.7.5)\n",
            "Requirement already satisfied: parso<0.9.0,>=0.8.0 in /usr/local/lib/python3.7/dist-packages (from jedi>=0.10->ipython->myst-nb>=0.13.1->inferactively-pymdp) (0.8.3)\n",
            "Requirement already satisfied: wcwidth in /usr/local/lib/python3.7/dist-packages (from prompt-toolkit<2.1.0,>=2.0.0->ipython->myst-nb>=0.13.1->inferactively-pymdp) (0.2.5)\n",
            "Requirement already satisfied: ptyprocess>=0.5 in /usr/local/lib/python3.7/dist-packages (from pexpect->ipython->myst-nb>=0.13.1->inferactively-pymdp) (0.7.0)\n"
          ]
        }
      ],
      "source": [
        "! pip install inferactively-pymdp"
      ]
    },
    {
      "cell_type": "markdown",
      "metadata": {
        "id": "G4IgbMpOglCq"
      },
      "source": [
        "### Imports"
      ]
    },
    {
      "cell_type": "code",
      "execution_count": 51,
      "metadata": {
        "id": "hk0kXw1RRmTf"
      },
      "outputs": [],
      "source": [
        "import numpy as np\n",
        "import matplotlib.pyplot as plt\n",
        "import seaborn as sns"
      ]
    },
    {
      "cell_type": "markdown",
      "metadata": {
        "id": "iSS6oO3RWrwp"
      },
      "source": [
        "### Define some auxiliary functions\n",
        "\n",
        "Here are some plotting functions that will come in handy throughout the tutorial."
      ]
    },
    {
      "cell_type": "code",
      "execution_count": 52,
      "metadata": {
        "id": "Y0QiIF8SWxot"
      },
      "outputs": [],
      "source": [
        "def plot_likelihood(matrix, title_str = \"Likelihood distribution (A)\"):\n",
        "    \"\"\"\n",
        "    Plots a 2-D likelihood matrix as a heatmap\n",
        "    \"\"\"\n",
        "\n",
        "    if not np.isclose(matrix.sum(axis=0), 1.0).all():\n",
        "      raise ValueError(\"Distribution not column-normalized! Please normalize (ensure matrix.sum(axis=0) == 1.0 for all columns)\")\n",
        "    \n",
        "    fig = plt.figure(figsize = (6,6))\n",
        "    ax = sns.heatmap(matrix, cmap = 'gray', cbar = False, vmin = 0.0, vmax = 1.0)\n",
        "    plt.title(title_str)\n",
        "    plt.show()\n",
        "\n",
        "\n",
        "def plot_beliefs(belief_dist, title_str=\"\"):\n",
        "    \"\"\"\n",
        "    Plot a categorical distribution or belief distribution, stored in the 1-D numpy vector `belief_dist`\n",
        "    \"\"\"\n",
        "\n",
        "    if not np.isclose(belief_dist.sum(), 1.0):\n",
        "      raise ValueError(\"Distribution not normalized! Please normalize\")\n",
        "\n",
        "    plt.grid(zorder=0)\n",
        "    plt.bar(range(belief_dist.shape[0]), belief_dist, color='r', zorder=3)\n",
        "    plt.xticks(range(belief_dist.shape[0]))\n",
        "    plt.title(title_str)\n",
        "    plt.show()"
      ]
    },
    {
      "cell_type": "markdown",
      "metadata": {
        "id": "qknzxudf593_"
      },
      "source": [
        "## **More complex generative models**\n",
        "\n",
        "In this notebook we will build a more complicated generative model, with the following goals in mind:\n",
        "\n",
        "1. Demonstrate the unique behavior of active inference agents, as opposed to other agent-based approaches to solving POMDPs (e.g. utility-maximization / reinforcement learning)\n",
        "\n",
        "2. Provide a task example that is more relevant to decision-making research and computational psychiatry.\n",
        "\n",
        "3. Take advantage of the functionalities of `pymdp`, especially the `Agent()` class, to abstract away all the mathematical operations involved with inference and planning under active inference.\n",
        "\n",
        "Before we dive into specifying this generative model, we need to talk about _observation modalities_ and _hidden state factors_...\n"
      ]
    },
    {
      "cell_type": "markdown",
      "metadata": {
        "id": "2YQ8gQrdkFE4"
      },
      "source": [
        "The data structure we use in `pymdp` to represent different hidden state factors and observation modalities is the `object array` (referred to in other contexts as 'arrays of arrays' or 'jagged/ragged arrays').\n",
        "\n",
        "They are no different than standard numpy `ndarrays` (they can arbitrarily multidimensional shape), except for the fact that their contents are unrestricted in terms of type. Their `dtype` is `object`, which means that their elements can be any kind of Python data structure -- including other arrays!\n",
        "\n",
        "In case you're coming from a  MATLAB background: these object arrays are the equivalent of cell arrays. \n",
        "\n",
        "In `pymdp`, we represent a multi-factor $\\mathbf{B}$ array as an object array which has as many elements as there are hidden state factors. Therefore, each element `B[i]` of the object array contains the `B` matrix for hidden state factor `i`."
      ]
    },
    {
      "cell_type": "code",
      "execution_count": 53,
      "metadata": {
        "id": "LE3k-jsQKAt3"
      },
      "outputs": [],
      "source": [
        "import pymdp\n",
        "from pymdp import utils\n",
        "from pymdp.maths import softmax"
      ]
    },
    {
      "cell_type": "markdown",
      "metadata": {
        "id": "Mk0dbpXibpP_"
      },
      "source": [
        "## **Explore/exploit task with a epistemic two-armed bandit**\n",
        "\n",
        "Now we're going to build a generative model for an active inference agent playing a two-armed bandit task. The [multi-armed bandit](https://en.wikipedia.org/wiki/Multi-armed_bandit) (or MAB) is a classic decision-making task that captures the core features of the the \"explore/exploit tradeoff\". The multi-armed bandit formulation is ubiquitous across problem spaces that require sequential decision-making under uncertainty -- this includes disciplines ranging from economics, neuroscience, machine learning, engineering all the way to advertising.\n",
        "\n",
        "In the standard MAB problem formulation, an agent has must choose between mutually-exclusive alternatives (also known as 'arms') in order to maximize reward over time. The probability of reward depends on which arm the agent chooses. A common real-world analogy for a MAB problem is imagining a special slot machine with three possible levers to pull (rather than the usual one), where playing each lever has different probabilities of payoff (e.g. getting a winning combination of symbols or bonus). In fact, the 'standard' slot machine, which usually only only one lever, was historically referred to as a 'one-armed bandit' -- this was the direct ancestor of the name for the generic machine learning / decision-making problem class, the MAB. \n",
        "\n",
        "Crucially, MAB problems are interesting and difficult because in general, the reward statistics of each arm are unknown or only partially known. In a probabilistic or Bayesian context, an agent must therefore act based on _beliefs_ about the reward statistics, since they don't have perfect access to this information. \n",
        "\n",
        "The inherent partial-observability  of the ask creates a conflict between **exploitation** or choosing the arm that is _currently believed_ to be most rewarding, and **exploration** or gathering information about the remaining arms, in the hopes of discovering a potentially more rewarding option.\n",
        "\n",
        "The fact that expected reward or utility is contextualized by _beliefs_ -- i.e. which arm is currently thought to be the most rewarding -- motivates the use of active inference in this context. This is because the key objective function for action-selection, the expected free energy $\\mathbf{G}$, depends on the agent's beliefs about the world. And not only that, but expected free energy balances the desire to maximize rewards with the drive to resolve uncertainty about unknown parts of the agent's model. The more accurate the agent's beliefs are, the more faithfully decision-making can be guided by maximizing expected utility or rewards.\n",
        "\n",
        "#### **MAB with an epistemic twist**\n",
        "\n",
        "In the MAB formulation we'll be exploring in this tutorial, the agent must choose to play among two possible arms, each of which has unknown reward statistics. These reward statistics take the form of Bernoulli distributions over two possible reward outcomes: \"Loss\" and \"Reward\". However, one of the arms has probability $p$ of yielding \"Reward\"\" and probabiliity $(1-p)$ of yielding \"Loss\". The other arm has swapped statistics. In this example, agent knows that the bandit has this general reward structure, except they don't know *which* of the two arms is the rewarding one (the arm where reward probability is $p$, assuming $p \\in [0.5, 1]$).\n",
        "\n",
        "However, we introduce an additional feature in the environment, that induces an explicit trade-off in decision-making between exploration (information-seeking) and exploitation (reward-seeking). In this special \"epistemic bandit\" problem, there is an additional action available to the agent, besides playing the two arms. We call this third action \"Get Hint\", and allows the agent to acquire information reveals (potentially probabilistically) which arm is the more rewarding one. There is a trade-off here, because by choosing to acquire the hint, the agent forgoes the possibility of playing an arm and thus the possibility of getting a reward at that moment. The mutual exclusivity of hint-acquisition and arm-playing imbues the system with an explore/exploit trade-off, which active inference is particularly equipped to handle, when compared to simple reinforcement learning schemes (e.g. epsilon-greedy reward maximization).\n",
        "\n"
      ]
    },
    {
      "cell_type": "markdown",
      "metadata": {
        "id": "WYTRxlxx4iD0"
      },
      "source": [
        "---\n",
        "\n",
        "Specify the dimensionalities of the hidden state factors, the control factors, and the observation modalities"
      ]
    },
    {
      "cell_type": "code",
      "execution_count": 54,
      "metadata": {
        "id": "vOEYkFPt4gbC"
      },
      "outputs": [],
      "source": [
        "context_names = ['Qual Low','Qual Med','Qual High','Quan Low','Quan Med','Quan High','Eng Low','Eng Med','Eng High']\n",
        "choice_names = ['Write Code','Create PR','Create Issue','Commit Code','Approve PR','Close Issue','Request Changes','Comment','Fork','Quiesce']\n",
        "num_states = [len(context_names), len(choice_names)] # hidden state factor dimensions\n",
        "num_factors = len(num_states)\n",
        "#context_action_names = ['Move Left','Dont Move LR','Move Right','Move Down','Dont Move UD','Move Up','Less Bright','Stay Same','More Bright']\n",
        "context_action_names = ['Do-nothing']\n",
        "choice_action_names = ['Write Code','Create PR','Create Issue','Commit Code','Approve PR','Close Issue','Request Changes','Comment','Fork','Quiesce']\n",
        "num_controls = [len(context_action_names), len(choice_action_names)] # control state factor dimensions\n",
        "horizon_obs_names = ['Most Qual Decrease','Most Qual Nothing','Most Qual Increase','Most Quan Decrease','Most Quan Nothing','Most Quan Increase','Most Getting Duller','Most Staying Same','Most Getting Brighter']\n",
        "#reward_obs_names = ['Qual Low','Qual Med','Qual High','Quan Low','Quan Med','Quan High','Eng Low','Eng Med','Eng High']\n",
        "reward_obs_names = ['Null','Loss','Reward']\n",
        "choice_obs_names = ['Write Code','Create PR','Create Issue','Commit Code','Approve PR','Close Issue','Request Changes','Comment','Fork','Quiesce']\n",
        "num_obs = [len(horizon_obs_names), len(reward_obs_names), len(choice_obs_names)]\n",
        "num_modalities = len(num_obs)"
      ]
    },
    {
      "cell_type": "markdown",
      "metadata": {
        "id": "k4Tca2bJ4o0z"
      },
      "source": [
        "### The `A` array\n",
        "---\n",
        "\n",
        "**Note**: Unlike in [Tutorial 1: Active inference from scratch](https://pymdp-rtd.readthedocs.io/en/latest/notebooks/active_inference_from_scratch.html), here we we will be building a more complex generative model more than one hidden state factor and observation modality. This leads to accordingly higher-dimensional `A` and `B` arrays. See [pymdp fundamentals](https://pymdp-rtd.readthedocs.io/en/latest/notebooks/pymdp_fundamentals.html) for more details on how we specify these high-dimensional arrays in `NumPy`."
      ]
    },
    {
      "cell_type": "code",
      "execution_count": 55,
      "metadata": {
        "id": "zQsDxB8v6bvF"
      },
      "outputs": [],
      "source": [
        "\"\"\" Generate the A array \"\"\"\n",
        "A = utils.obj_array( num_modalities )"
      ]
    },
    {
      "cell_type": "markdown",
      "metadata": {
        "id": "9Vmy_Z1N6poY"
      },
      "source": [
        "Fill out the hint modality, a sub-array of `A` which we'll call `A_hint`\n",
        "\n",
        "<img src=\"https://drive.google.com/uc?export=view&id=1SqMp77NAmUa_oh925VURJ1Hyp8v_fXOj\"/>\n",
        "\n"
      ]
    },
    {
      "cell_type": "code",
      "execution_count": 56,
      "metadata": {
        "id": "daovgh4A6m5c"
      },
      "outputs": [],
      "source": [
        "#A = utils.obj_array( num_modalities )\n",
        "p_horizon = 0.7 # accuracy of horizon/hint for agent, how much they trust their perception\n",
        "A_horizon = np.zeros( ( len(horizon_obs_names), len(context_names), len(choice_names) ) )\n",
        "#horizon_array = np.eye(9)\n",
        "#other_horizon_array = (1.0 - p_horizon) * np.roll(horizon_array, -1, axis=0)\n",
        "#horizon_array = p_horizon * horizon_array\n",
        "#horizon_array += other_horizon_array\n",
        "horizon_array = softmax(np.random.normal(0.0, 1.0, size=(len(horizon_obs_names),len(horizon_obs_names))))\n",
        "for choice_id, choice_name in enumerate(choice_names):\n",
        "  if choice_name == 'Write Code':\n",
        "    #A_horizon[0,:,choice_id] = 1.0\n",
        "    A_horizon[0:,:,choice_id] = horizon_array\n",
        "  elif choice_name == 'Create PR':\n",
        "    #A_horizon[0,:,choice_id] = 1.0\n",
        "    A_horizon[0:,:,choice_id] = horizon_array\n",
        "  elif choice_name == 'Create Issue':\n",
        "    #A_horizon[0,:,choice_id] = 1.0\n",
        "    A_horizon[0:,:,choice_id] = horizon_array\n",
        "  elif choice_name == 'Commit Code':\n",
        "    #A_horizon[0,:,choice_id] = 1.0\n",
        "    A_horizon[0:,:,choice_id] = horizon_array\n",
        "  elif choice_name == 'Approve PR':\n",
        "    #A_horizon[0,:,choice_id] = 1.0\n",
        "    A_horizon[0:,:,choice_id] = horizon_array\n",
        "  elif choice_name == 'Close Issue':\n",
        "    #A_horizon[0,:,choice_id] = 1.0\n",
        "    A_horizon[0:,:,choice_id] = horizon_array\n",
        "  elif choice_name == 'Request Changes':\n",
        "    #A_horizon[0,:,choice_id] = 1.0\n",
        "    A_horizon[0:,:,choice_id] = horizon_array\n",
        "  elif choice_name == 'Comment':\n",
        "    #A_horizon[0,:,choice_id] = 1.0\n",
        "    A_horizon[0:,:,choice_id] = horizon_array\n",
        "  elif choice_name == 'Fork':\n",
        "    #A_horizon[0,:,choice_id] = 1.0\n",
        "    A_horizon[0:,:,choice_id] = horizon_array\n",
        "  elif choice_name == 'Quiesce':\n",
        "    #A_horizon[0,:,choice_id] = 1.0\n",
        "    A_horizon[0:,:,choice_id] = horizon_array\n",
        "A[0] = A_horizon\n"
      ]
    },
    {
      "cell_type": "code",
      "execution_count": 57,
      "metadata": {
        "id": "zIWcFelA7RqY",
        "outputId": "a3e0e0b5-d16c-41d2-d807-c3fdefbdde2f",
        "colab": {
          "base_uri": "https://localhost:8080/",
          "height": 390
        }
      },
      "outputs": [
        {
          "output_type": "display_data",
          "data": {
            "text/plain": [
              "<Figure size 432x432 with 1 Axes>"
            ],
            "image/png": "[encoded data removed]"
          },
          "metadata": {
            "needs_background": "light"
          }
        }
      ],
      "source": [
        "plot_likelihood(A[0][:,:,1], title_str = 'Probability of the horizon types for the states')\n"
      ]
    },
    {
      "cell_type": "markdown",
      "metadata": {
        "id": "dnVJO-Nn7zY4"
      },
      "source": [
        "Fill out the reward modality, a sub-array of `A` which we'll call `A_rew`\n",
        "\n",
        "<img src=\"https://drive.google.com/uc?export=view&id=155LAPZ9_aulJ3YYZwwlOWrEa6unabHht\"/>"
      ]
    },
    {
      "cell_type": "code",
      "execution_count": 74,
      "metadata": {
        "id": "fVnKm0zU8Ng3"
      },
      "outputs": [],
      "source": [
        "p_reward = 0.8\n",
        "A_reward = np.zeros((len(reward_obs_names), len(context_names), len(choice_names)))\n",
        "reward_array = np.array(9)\n",
        "other_reward_array = (1.0 - p_reward) * np.roll(reward_array, -1)\n",
        "reward_array = p_reward * reward_array\n",
        "reward_array += other_reward_array\n",
        "reward_array = softmax(reward_array)\n",
        "#reward_array = np.ones(9)\n",
        "for choice_id, choice_name in enumerate(choice_names):\n",
        "  if choice_name == 'Write Code':\n",
        "    #A_reward[0,:,choice_id] = 1.0\n",
        "    A_reward[0,:,choice_id] = reward_array\n",
        "  elif choice_name == 'Create PR':\n",
        "    #A_reward[0,:,choice_id] = 1.0\n",
        "    A_reward[0,:,choice_id] = reward_array\n",
        "  elif choice_name == 'Create Issue':\n",
        "    #A_reward[0,:,choice_id] = 1.0\n",
        "    A_reward[0,:,choice_id] = reward_array\n",
        "  elif choice_name == 'Commit Code':\n",
        "    #A_reward[0,:,choice_id] = 1.0\n",
        "    A_reward[0,:,choice_id] = reward_array\n",
        "  elif choice_name == 'Approve PR':\n",
        "    #A_reward[0,:,choice_id] = 1.0\n",
        "    A_reward[0,:,choice_id] = reward_array\n",
        "  elif choice_name == 'Close Issue':\n",
        "    #A_reward[0,:,choice_id] = 1.0\n",
        "    A_reward[0,:,choice_id] = reward_array\n",
        "  elif choice_name == 'Request Changes':\n",
        "    #A_reward[0,:,choice_id] = 1.0\n",
        "    A_reward[0,:,choice_id] = reward_array\n",
        "  elif choice_name == 'Comment':\n",
        "    #A_reward[0,:,choice_id] = 1.0\n",
        "    A_reward[0,:,choice_id] = reward_array\n",
        "  elif choice_name == 'Fork':\n",
        "    #A_reward[0,:,choice_id] = 1.0\n",
        "    A_reward[0,:,choice_id] = reward_array\n",
        "  elif choice_name == 'Quiesce':\n",
        "    #A_reward[0,:,choice_id] = 1.0\n",
        "    A_reward[0,:,choice_id] = reward_array\n",
        "A[1] = A_reward"
      ]
    },
    {
      "cell_type": "code",
      "execution_count": 75,
      "metadata": {
        "id": "CWKQSusN9Jzk",
        "outputId": "caacdd08-9455-4cff-f48e-f9a95d337e56",
        "colab": {
          "base_uri": "https://localhost:8080/",
          "height": 390
        }
      },
      "outputs": [
        {
          "output_type": "display_data",
          "data": {
            "text/plain": [
              "<Figure size 432x432 with 1 Axes>"
            ],
            "image/png": "[encoded data removed]"
          },
          "metadata": {
            "needs_background": "light"
          }
        }
      ],
      "source": [
        "plot_likelihood(A[1][:,:,2], 'Payoff structure if playing the Left Arm, for the two contexts')"
      ]
    },
    {
      "cell_type": "markdown",
      "metadata": {
        "id": "g62Zjwg0-iot"
      },
      "source": [
        "Fill out the choice observation modality, a sub-array of `A` which we'll call `A_choice`\n",
        "\n",
        "<img src=\"https://drive.google.com/uc?export=view&id=1LGdGX0TgesvQ2HDnHMg42XHh0n6ZKnHw\"/>\n"
      ]
    },
    {
      "cell_type": "code",
      "execution_count": 59,
      "metadata": {
        "id": "VHdgBVSm-mOL"
      },
      "outputs": [],
      "source": [
        "A_choice = np.zeros((len(choice_obs_names), len(context_names), len(choice_names)))\n",
        "for choice_id in range(len(choice_names)):\n",
        "  A_choice[choice_id, :, choice_id] = 1.0\n",
        "A[2] = A_choice"
      ]
    },
    {
      "cell_type": "code",
      "execution_count": 60,
      "metadata": {
        "id": "2O5QpoC8Uc8j",
        "outputId": "a4abf041-90e0-4ac7-c8ed-e74e2207a5e9",
        "colab": {
          "base_uri": "https://localhost:8080/",
          "height": 390
        }
      },
      "outputs": [
        {
          "output_type": "display_data",
          "data": {
            "text/plain": [
              "<Figure size 432x432 with 1 Axes>"
            ],
            "image/png": "[encoded data removed]"
          },
          "metadata": {
            "needs_background": "light"
          }
        }
      ],
      "source": [
        "\"\"\" Condition on context (first hidden state factor) and display the remaining indices (outcome and choice state) \"\"\"\n",
        "\n",
        "plot_likelihood(A[2][:,0,:], \"Mapping between sensed states and true states\")"
      ]
    },
    {
      "cell_type": "markdown",
      "metadata": {
        "id": "FhP5apgR-7zN"
      },
      "source": [
        "### The `B` array"
      ]
    },
    {
      "cell_type": "code",
      "execution_count": 61,
      "metadata": {
        "id": "JSiiIJdu4n9b"
      },
      "outputs": [],
      "source": [
        "B = utils.obj_array(num_factors)"
      ]
    },
    {
      "cell_type": "markdown",
      "metadata": {
        "id": "_b7Fyz0T59e0"
      },
      "source": [
        " Fill out the context state factor dynamics, a sub-array of `B` which we'll call `B_context`\n",
        "\n",
        "<img src=\"https://drive.google.com/uc?export=view&id=1_VvkCpRu1wWwEFiAJKnOGAGikd5KeiiE\" width=\"600\" height=\"300\" />\n"
      ]
    },
    {
      "cell_type": "code",
      "execution_count": 62,
      "metadata": {
        "id": "lVtIXiyq6EHo"
      },
      "outputs": [],
      "source": [
        "B_context = np.zeros( (len(context_names), len(context_names), len(context_action_names)) )\n",
        "B_context[:,:,0] = np.eye(len(context_names))\n",
        "B[0] = B_context"
      ]
    },
    {
      "cell_type": "markdown",
      "metadata": {
        "id": "FzDc6PLG5Mof"
      },
      "source": [
        "Fill out the choice factor dynamics, a sub-array of `B` which we'll call `B_choice`\n",
        "\n",
        "<img src=\"https://drive.google.com/uc?export=view&id=1qeuFvNIrJR7ldjpkrB6_jAp6JM3UhMw0\"/>\n"
      ]
    },
    {
      "cell_type": "code",
      "execution_count": 63,
      "metadata": {
        "id": "--5HyEYt42Q8"
      },
      "outputs": [],
      "source": [
        "B_choice = np.zeros( (len(choice_names), len(choice_names), len(choice_action_names)) )\n",
        "\n",
        "for choice_i in range(len(choice_names)):\n",
        "  B_choice[choice_i, :, choice_i] = 1.0\n",
        "B[1] = B_choice"
      ]
    },
    {
      "cell_type": "markdown",
      "metadata": {
        "id": "ll-mBL_2_McK"
      },
      "source": [
        "### The `C` vectors"
      ]
    },
    {
      "cell_type": "code",
      "execution_count": 64,
      "metadata": {
        "id": "ib54P_VFvjk0"
      },
      "outputs": [],
      "source": [
        "\"\"\" Explain `obj_array_zeros` and how you don't have to populate them necessarily \"\"\"\n",
        "C = utils.obj_array_zeros(num_obs)"
      ]
    },
    {
      "cell_type": "code",
      "execution_count": 65,
      "metadata": {
        "id": "4JlKcepO_KgA",
        "outputId": "7b234142-3364-4252-f8fd-7fa8f7519d02",
        "colab": {
          "base_uri": "https://localhost:8080/",
          "height": 281
        }
      },
      "outputs": [
        {
          "output_type": "display_data",
          "data": {
            "text/plain": [
              "<Figure size 432x288 with 1 Axes>"
            ],
            "image/png": "[encoded data removed]"
          },
          "metadata": {
            "needs_background": "light"
          }
        }
      ],
      "source": [
        "C = utils.obj_array_zeros(num_obs)\n",
        "C_reward = np.zeros(len(reward_obs_names))\n",
        "C_reward[1] = -4.0\n",
        "C_reward[2] = 2.0\n",
        "C[1] = C_reward\n",
        "\n",
        "plot_beliefs(softmax(C_reward), title_str = \"Prior preferences\")"
      ]
    },
    {
      "cell_type": "markdown",
      "metadata": {
        "id": "lJXKG-IV_qm1"
      },
      "source": [
        "### The `D` vectors"
      ]
    },
    {
      "cell_type": "code",
      "execution_count": 66,
      "metadata": {
        "id": "MJTKm27fv_Rf",
        "outputId": "ebbcb80a-ae79-48e5-c883-01e61d9267c7",
        "colab": {
          "base_uri": "https://localhost:8080/"
        }
      },
      "outputs": [
        {
          "output_type": "stream",
          "name": "stdout",
          "text": [
            "Beliefs about which arm is better: [0.11111111 0.11111111 0.11111111 0.11111111 0.11111111 0.11111111\n",
            " 0.11111111 0.11111111 0.11111111]\n",
            "Beliefs about starting location: [0. 0. 0. 0. 0. 0. 0. 0. 0. 1.]\n"
          ]
        }
      ],
      "source": [
        "D = utils.obj_array(num_factors)\n",
        "D_context = softmax(np.ones(len(context_names)))\n",
        "D[0] = D_context\n",
        "D_choice = np.zeros(len(choice_names))\n",
        "D_choice[choice_names.index('Quiesce')] = 1.0\n",
        "D[1] = D_choice\n",
        "\n",
        "print(f'Beliefs about which arm is better: {D[0]}')\n",
        "print(f'Beliefs about starting location: {D[1]}')"
      ]
    },
    {
      "cell_type": "markdown",
      "metadata": {
        "id": "fP7NySzAhWgf"
      },
      "source": [
        "## **Constructing an `Agent`**"
      ]
    },
    {
      "cell_type": "code",
      "execution_count": 76,
      "metadata": {
        "id": "ls9VoZX__0Vp"
      },
      "outputs": [],
      "source": [
        "from pymdp.agent import Agent\n",
        "\n",
        "my_agent = Agent(A = A, B = B, C = C, D = D)"
      ]
    },
    {
      "cell_type": "markdown",
      "metadata": {
        "id": "4Xu-ZVZBh_wH"
      },
      "source": [
        "Define a class for the 2-armed bandit environment (AKA the _generative process_)"
      ]
    },
    {
      "cell_type": "code",
      "execution_count": 73,
      "metadata": {
        "id": "LjxoLs67AXwR"
      },
      "outputs": [],
      "source": [
        "class CommunityMember(object):\n",
        "  def __init__(self, context = None, p_horizon = 1.0, p_reward = 0.8):\n",
        "    self.context_names = ['Qual Low','Qual Med','Qual High','Quan Low','Quan Med','Quan High','Eng Low','Eng Med','Eng High']\n",
        "    if context == None:\n",
        "      self.context = self.context_names[utils.sample(softmax(np.random.normal(0.0, 1.0, size=(len(self.context_names),))))]\n",
        "      #self.context = self.context_names[utils.sample(softmax(np.ones(len(self.context_names))))]\n",
        "    else:\n",
        "      self.context = context\n",
        "    \n",
        "    self.p_horizon = p_horizon\n",
        "    self.p_reward = p_reward\n",
        "    self.horizon_obs_names = ['Most Qual Decrease','Most Qual Nothing','Most Qual Increase','Most Quan Decrease','Most Quan Nothing','Most Quan Increase','Most Getting Duller','Most Staying Same','Most Getting Brighter']\n",
        "    self.reward_obs_names = ['Null','Loss','Reward']\n",
        "  def step(self, action):\n",
        "    #choice_action_names = ['Write Code','Create PR','Create Issue','Commit Code','Approve PR','Close Issue','Request Changes','Comment','Fork','Quiesce']\n",
        "    #self.context_names = ['Qual Low','Qual Med','Qual High','Quan Low','Quan Med','Quan High','Eng Low','Eng Med','Eng High']\n",
        "    qual_low_prob = softmax(np.array([p_horizon,p_horizon,0.0,1-p_horizon,1-p_horizon,0.0,1-p_horizon,p_horizon]))\n",
        "    qual_med_prob = softmax(np.array([0.0,p_horizon,0.0,1-p_horizon,1-p_horizon,0.0,1-p_horizon,p_horizon]))\n",
        "    qual_high_prob = softmax(np.array([1-p_horizon,p_horizon,p_horizon,1-p_horizon,1-p_horizon,0.0,1-p_horizon,p_horizon]))\n",
        "    quan_low_prob = softmax(np.array([1-p_horizon,1-p_horizon,0.0,p_horizon,p_horizon,0.0,1-p_horizon,1-p_horizon]))\n",
        "    quan_med_prob = softmax(np.array([1-p_horizon,1-p_horizon,0.0,p_horizon,p_horizon,p_horizon,1-p_horizon,p_horizon]))\n",
        "    quan_high_prob = softmax(np.array([1-p_horizon,1-p_horizon,0.0,0.0,p_horizon,p_horizon,1-p_horizon,p_horizon]))\n",
        "    eng_low_prob = softmax(np.array([1-p_horizon,1-p_horizon,0.0,1-p_horizon,1-p_horizon,p_horizon,p_horizon,p_horizon]))\n",
        "    eng_med_prob = softmax(np.array([1-p_horizon,1-p_horizon,0.0,1-p_horizon,1-p_horizon,p_horizon,p_horizon,p_horizon]))\n",
        "    eng_high_prob = softmax(np.array([1-p_horizon,1-p_horizon,0.0,1-p_horizon,1-p_horizon,0.0,p_horizon,p_horizon]))\n",
        "    if action == 'Write Code':\n",
        "      if self.context == 'Qual Low':\n",
        "        observed_horizon = self.horizon_obs_names[utils.sample(qual_low_prob)]\n",
        "      elif self.context == 'Qual Med':\n",
        "        observed_horizon = self.horizon_obs_names[utils.sample(qual_med_prob)]\n",
        "      elif self.context == 'Qual High':\n",
        "        observed_horizon = self.horizon_obs_names[utils.sample(qual_high_prob)]\n",
        "      elif self.context == 'Quan Low':\n",
        "        observed_horizon = self.horizon_obs_names[utils.sample(quan_low_prob)]\n",
        "      elif self.context == 'Quan Med':\n",
        "        observed_horizon = self.horizon_obs_names[utils.sample(quan_med_prob)]\n",
        "      elif self.context == 'Quan High':\n",
        "        observed_horizon = self.horizon_obs_names[utils.sample(quan_high_prob)]\n",
        "      elif self.context == 'Eng Low':\n",
        "        observed_horizon = self.horizon_obs_names[utils.sample(eng_low_prob)]\n",
        "      elif self.context == 'Eng Med':\n",
        "        observed_horizon = self.horizon_obs_names[utils.sample(eng_med_prob)]\n",
        "      elif self.context == 'Eng High':\n",
        "        observed_horizon = self.horizon_obs_names[utils.sample(eng_high_prob)]\n",
        "      #observed_horizon = 'Most Qual Nothing'\n",
        "      observed_reward = 'Null'\n",
        "      observed_choice = 'Write Code'\n",
        "    elif action == 'Create PR':\n",
        "      if self.context == 'Qual Low':\n",
        "        observed_horizon = self.horizon_obs_names[utils.sample(qual_low_prob)]\n",
        "      elif self.context == 'Qual Med':\n",
        "        observed_horizon = self.horizon_obs_names[utils.sample(qual_med_prob)]\n",
        "      elif self.context == 'Qual High':\n",
        "        observed_horizon = self.horizon_obs_names[utils.sample(qual_high_prob)]\n",
        "      elif self.context == 'Quan Low':\n",
        "        observed_horizon = self.horizon_obs_names[utils.sample(quan_low_prob)]\n",
        "      elif self.context == 'Quan Med':\n",
        "        observed_horizon = self.horizon_obs_names[utils.sample(quan_med_prob)]\n",
        "      elif self.context == 'Quan High':\n",
        "        observed_horizon = self.horizon_obs_names[utils.sample(quan_high_prob)]\n",
        "      elif self.context == 'Eng Low':\n",
        "        observed_horizon = self.horizon_obs_names[utils.sample(eng_low_prob)]\n",
        "      elif self.context == 'Eng Med':\n",
        "        observed_horizon = self.horizon_obs_names[utils.sample(eng_med_prob)]\n",
        "      elif self.context == 'Eng High':\n",
        "        observed_horizon = self.horizon_obs_names[utils.sample(eng_high_prob)]\n",
        "      #observed_horizon = 'Most Qual Increase'\n",
        "      observed_reward = 'Reward'\n",
        "      #observed_choice = 'Create PR'\n",
        "    elif action == 'Create Issue':\n",
        "      if self.context == 'Qual Low':\n",
        "        observed_horizon = self.horizon_obs_names[utils.sample(qual_low_prob)]\n",
        "      elif self.context == 'Qual Med':\n",
        "        observed_horizon = self.horizon_obs_names[utils.sample(qual_med_prob)]\n",
        "      elif self.context == 'Qual High':\n",
        "        observed_horizon = self.horizon_obs_names[utils.sample(qual_high_prob)]\n",
        "      elif self.context == 'Quan Low':\n",
        "        observed_horizon = self.horizon_obs_names[utils.sample(quan_low_prob)]\n",
        "      elif self.context == 'Quan Med':\n",
        "        observed_horizon = self.horizon_obs_names[utils.sample(quan_med_prob)]\n",
        "      elif self.context == 'Quan High':\n",
        "        observed_horizon = self.horizon_obs_names[utils.sample(quan_high_prob)]\n",
        "      elif self.context == 'Eng Low':\n",
        "        observed_horizon = self.horizon_obs_names[utils.sample(eng_low_prob)]\n",
        "      elif self.context == 'Eng Med':\n",
        "        observed_horizon = self.horizon_obs_names[utils.sample(eng_med_prob)]\n",
        "      elif self.context == 'Eng High':\n",
        "        observed_horizon = self.horizon_obs_names[utils.sample(eng_high_prob)]\n",
        "      #observed_horizon = 'Most Qual Increase'\n",
        "      observed_reward = 'Null'\n",
        "      observed_choice = 'Create Issue'\n",
        "    elif action == 'Commit Code':\n",
        "      if self.context == 'Qual Low':\n",
        "        observed_horizon = self.horizon_obs_names[utils.sample(qual_low_prob)]\n",
        "      elif self.context == 'Qual Med':\n",
        "        observed_horizon = self.horizon_obs_names[utils.sample(qual_med_prob)]\n",
        "      elif self.context == 'Qual High':\n",
        "        observed_horizon = self.horizon_obs_names[utils.sample(qual_high_prob)]\n",
        "      elif self.context == 'Quan Low':\n",
        "        observed_horizon = self.horizon_obs_names[utils.sample(quan_low_prob)]\n",
        "      elif self.context == 'Quan Med':\n",
        "        observed_horizon = self.horizon_obs_names[utils.sample(quan_med_prob)]\n",
        "      elif self.context == 'Quan High':\n",
        "        observed_horizon = self.horizon_obs_names[utils.sample(quan_high_prob)]\n",
        "      elif self.context == 'Eng Low':\n",
        "        observed_horizon = self.horizon_obs_names[utils.sample(eng_low_prob)]\n",
        "      elif self.context == 'Eng Med':\n",
        "        observed_horizon = self.horizon_obs_names[utils.sample(eng_med_prob)]\n",
        "      elif self.context == 'Eng High':\n",
        "        observed_horizon = self.horizon_obs_names[utils.sample(eng_high_prob)]\n",
        "      #observed_horizon = 'Most Quan Increase'\n",
        "      observed_reward = 'Null'\n",
        "      observed_choice = 'Commit Code'\n",
        "    elif action == 'Approve PR':\n",
        "      if self.context == 'Qual Low':\n",
        "        observed_horizon = self.horizon_obs_names[utils.sample(qual_low_prob)]\n",
        "      elif self.context == 'Qual Med':\n",
        "        observed_horizon = self.horizon_obs_names[utils.sample(qual_med_prob)]\n",
        "      elif self.context == 'Qual High':\n",
        "        observed_horizon = self.horizon_obs_names[utils.sample(qual_high_prob)]\n",
        "      elif self.context == 'Quan Low':\n",
        "        observed_horizon = self.horizon_obs_names[utils.sample(quan_low_prob)]\n",
        "      elif self.context == 'Quan Med':\n",
        "        observed_horizon = self.horizon_obs_names[utils.sample(quan_med_prob)]\n",
        "      elif self.context == 'Quan High':\n",
        "        observed_horizon = self.horizon_obs_names[utils.sample(quan_high_prob)]\n",
        "      elif self.context == 'Eng Low':\n",
        "        observed_horizon = self.horizon_obs_names[utils.sample(eng_low_prob)]\n",
        "      elif self.context == 'Eng Med':\n",
        "        observed_horizon = self.horizon_obs_names[utils.sample(eng_med_prob)]\n",
        "      elif self.context == 'Eng High':\n",
        "        observed_horizon = self.horizon_obs_names[utils.sample(eng_high_prob)]\n",
        "      #observed_horizon = 'Most Quan Increase'\n",
        "      observed_reward = 'Reward'\n",
        "      observed_choice = 'Approve PR'\n",
        "    elif action == 'Close Issue':\n",
        "      if self.context == 'Qual Low':\n",
        "        observed_horizon = self.horizon_obs_names[utils.sample(qual_low_prob)]\n",
        "      elif self.context == 'Qual Med':\n",
        "        observed_horizon = self.horizon_obs_names[utils.sample(qual_med_prob)]\n",
        "      elif self.context == 'Qual High':\n",
        "        observed_horizon = self.horizon_obs_names[utils.sample(qual_high_prob)]\n",
        "      elif self.context == 'Quan Low':\n",
        "        observed_horizon = self.horizon_obs_names[utils.sample(quan_low_prob)]\n",
        "      elif self.context == 'Quan Med':\n",
        "        observed_horizon = self.horizon_obs_names[utils.sample(quan_med_prob)]\n",
        "      elif self.context == 'Quan High':\n",
        "        observed_horizon = self.horizon_obs_names[utils.sample(quan_high_prob)]\n",
        "      elif self.context == 'Eng Low':\n",
        "        observed_horizon = self.horizon_obs_names[utils.sample(eng_low_prob)]\n",
        "      elif self.context == 'Eng Med':\n",
        "        observed_horizon = self.horizon_obs_names[utils.sample(eng_med_prob)]\n",
        "      elif self.context == 'Eng High':\n",
        "        observed_horizon = self.horizon_obs_names[utils.sample(eng_high_prob)]\n",
        "      #observed_horizon = 'Most Getting Brighter'\n",
        "      observed_reward = 'Reward'\n",
        "      observed_choice = 'Close Issue'\n",
        "    elif action == 'Request Changes':\n",
        "      if self.context == 'Qual Low':\n",
        "        observed_horizon = self.horizon_obs_names[utils.sample(qual_low_prob)]\n",
        "      elif self.context == 'Qual Med':\n",
        "        observed_horizon = self.horizon_obs_names[utils.sample(qual_med_prob)]\n",
        "      elif self.context == 'Qual High':\n",
        "        observed_horizon = self.horizon_obs_names[utils.sample(qual_high_prob)]\n",
        "      elif self.context == 'Quan Low':\n",
        "        observed_horizon = self.horizon_obs_names[utils.sample(quan_low_prob)]\n",
        "      elif self.context == 'Quan Med':\n",
        "        observed_horizon = self.horizon_obs_names[utils.sample(quan_med_prob)]\n",
        "      elif self.context == 'Quan High':\n",
        "        observed_horizon = self.horizon_obs_names[utils.sample(quan_high_prob)]\n",
        "      elif self.context == 'Eng Low':\n",
        "        observed_horizon = self.horizon_obs_names[utils.sample(eng_low_prob)]\n",
        "      elif self.context == 'Eng Med':\n",
        "        observed_horizon = self.horizon_obs_names[utils.sample(eng_med_prob)]\n",
        "      elif self.context == 'Eng High':\n",
        "        observed_horizon = self.horizon_obs_names[utils.sample(eng_high_prob)]\n",
        "      #observed_horizon = 'Most Getting Brighter'\n",
        "      observed_reward = 'Reward'\n",
        "      observed_choice = 'Request Changes'\n",
        "    elif action == 'Comment':\n",
        "      if self.context == 'Qual Low':\n",
        "        observed_horizon = self.horizon_obs_names[utils.sample(qual_low_prob)]\n",
        "      elif self.context == 'Qual Med':\n",
        "        observed_horizon = self.horizon_obs_names[utils.sample(qual_med_prob)]\n",
        "      elif self.context == 'Qual High':\n",
        "        observed_horizon = self.horizon_obs_names[utils.sample(qual_high_prob)]\n",
        "      elif self.context == 'Quan Low':\n",
        "        observed_horizon = self.horizon_obs_names[utils.sample(quan_low_prob)]\n",
        "      elif self.context == 'Quan Med':\n",
        "        observed_horizon = self.horizon_obs_names[utils.sample(quan_med_prob)]\n",
        "      elif self.context == 'Quan High':\n",
        "        observed_horizon = self.horizon_obs_names[utils.sample(quan_high_prob)]\n",
        "      elif self.context == 'Eng Low':\n",
        "        observed_horizon = self.horizon_obs_names[utils.sample(eng_low_prob)]\n",
        "      elif self.context == 'Eng Med':\n",
        "        observed_horizon = self.horizon_obs_names[utils.sample(eng_med_prob)]\n",
        "      elif self.context == 'Eng High':\n",
        "        observed_horizon = self.horizon_obs_names[utils.sample(eng_high_prob)]\n",
        "      #observed_horizon = 'Most Getting Brighter'\n",
        "      observed_reward = 'Reward'\n",
        "      observed_choice = 'Comment'\n",
        "    elif action == 'Fork':\n",
        "      if self.context == 'Qual Low':\n",
        "        observed_horizon = self.horizon_obs_names[utils.sample(qual_low_prob)]\n",
        "      elif self.context == 'Qual Med':\n",
        "        observed_horizon = self.horizon_obs_names[utils.sample(qual_med_prob)]\n",
        "      elif self.context == 'Qual High':\n",
        "        observed_horizon = self.horizon_obs_names[utils.sample(qual_high_prob)]\n",
        "      elif self.context == 'Quan Low':\n",
        "        observed_horizon = self.horizon_obs_names[utils.sample(quan_low_prob)]\n",
        "      elif self.context == 'Quan Med':\n",
        "        observed_horizon = self.horizon_obs_names[utils.sample(quan_med_prob)]\n",
        "      elif self.context == 'Quan High':\n",
        "        observed_horizon = self.horizon_obs_names[utils.sample(quan_high_prob)]\n",
        "      elif self.context == 'Eng Low':\n",
        "        observed_horizon = self.horizon_obs_names[utils.sample(eng_low_prob)]\n",
        "      elif self.context == 'Eng Med':\n",
        "        observed_horizon = self.horizon_obs_names[utils.sample(eng_med_prob)]\n",
        "      elif self.context == 'Eng High':\n",
        "        observed_horizon = self.horizon_obs_names[utils.sample(eng_high_prob)]\n",
        "      #observed_horizon = 'Most Getting Brighter'\n",
        "      observed_reward = 'Null'\n",
        "      observed_choice = 'Fork'\n",
        "    elif action == 'Quiesce':\n",
        "      observed_horizon = self.horizon_obs_names[utils.sample(softmax(np.array([p_horizon,0.0,0.0,p_horizon,0.0,0.0,p_horizon,0.0,0.0])))]\n",
        "      #observed_horizon = 'Most Staying Same'\n",
        "      observed_reward = 'Loss'\n",
        "      observed_choice = 'Quiesce'\n",
        "    obs = [observed_horizon, observed_reward, observed_choice]\n",
        "    return obs"
      ]
    },
    {
      "cell_type": "markdown",
      "metadata": {
        "id": "h6IeX_BlhmBy"
      },
      "source": [
        "Now we'll write a function that will take the agent, the environment, and a time length and run the active inference loop"
      ]
    },
    {
      "cell_type": "code",
      "execution_count": 70,
      "metadata": {
        "id": "In-AoaGQDdQH"
      },
      "outputs": [],
      "source": [
        "def run_active_inference_step(my_agent, my_env):\n",
        "  obs_label = ['Most Qual Nothing','Null','Quiesce']\n",
        "  obs = [horizon_obs_names.index(obs_label[0]), reward_obs_names.index(obs_label[1]), choice_obs_names.index(obs_label[2])]\n",
        "  qs = my_agent.infer_states(obs)\n",
        "  q_pi, efe = my_agent.infer_policies()\n",
        "  chosen_action_id = my_agent.sample_action()\n",
        "  movement_id = int(chosen_action_id[1])\n",
        "  choice_action = choice_action_names[movement_id]\n",
        "  obs_label = my_env.step(choice_action)\n",
        "  obs = [horizon_obs_names.index(obs_label[0]),reward_obs_names.index(obs_label[1]), choice_obs_names.index(obs_label[2])]\n",
        "  return choice_action\n",
        "\n",
        "def run_active_inference_loop(my_agent, my_env, T = 5):\n",
        "\n",
        "  \"\"\" Initialize the first observation \"\"\"\n",
        "  obs_label = [\"Most Qual Nothing\", \"Null\", \"Quiesce\"]  # agent observes itself seeing a `Null` hint, getting a `Null` reward, and seeing itself in the `Start` location\n",
        "  obs = [horizon_obs_names.index(obs_label[0]), reward_obs_names.index(obs_label[1]), choice_obs_names.index(obs_label[2])]\n",
        "  \n",
        "  for t in range(T):\n",
        "    qs = my_agent.infer_states(obs)\n",
        "    plot_beliefs(qs[0], title_str = f\"Beliefs about the context at time {t}\")\n",
        "\n",
        "    q_pi, efe = my_agent.infer_policies()\n",
        "    chosen_action_id = my_agent.sample_action()\n",
        "\n",
        "    movement_id = int(chosen_action_id[1])\n",
        "\n",
        "    choice_action = choice_action_names[movement_id]\n",
        "\n",
        "    obs_label = my_env.step(choice_action)\n",
        "\n",
        "    obs = [horizon_obs_names.index(obs_label[0]), reward_obs_names.index(obs_label[1]), choice_obs_names.index(obs_label[2])]\n",
        "\n",
        "    print(f'Action at time {t}: {choice_action}')\n",
        "    print(f'Reward at time {t}: {obs_label[1]}')"
      ]
    },
    {
      "cell_type": "markdown",
      "metadata": {
        "id": "gYeg73orwtHC"
      },
      "source": [
        "Now all we have to do is define the two-armed bandit environment, choose the length of the simulation, and run the function we wrote above.\n",
        "\n",
        "\n",
        "*   Try playing with the hint accuracy and/or reward statistics of the environment - remember this is _different_ than the agent's representation of the reward statistics (i.e. the agent's generative model, e.g. the A or B matrices).\n",
        "\n",
        "\n"
      ]
    },
    {
      "cell_type": "code",
      "execution_count": 78,
      "metadata": {
        "id": "Vy7OXyo8wvY0",
        "outputId": "7573b94c-f609-4c50-a80a-ac318995628e",
        "colab": {
          "base_uri": "https://localhost:8080/",
          "height": 1000
        }
      },
      "outputs": [
        {
          "output_type": "stream",
          "name": "stdout",
          "text": [
            "Context: Eng High\n"
          ]
        },
        {
          "output_type": "display_data",
          "data": {
            "text/plain": [
              "<Figure size 432x288 with 1 Axes>"
            ],
            "image/png": "[encoded data removed]"
          },
          "metadata": {
            "needs_background": "light"
          }
        },
        {
          "output_type": "stream",
          "name": "stdout",
          "text": [
            "Action at time 0: Write Code\n",
            "Reward at time 0: Null\n"
          ]
        },
        {
          "output_type": "display_data",
          "data": {
            "text/plain": [
              "<Figure size 432x288 with 1 Axes>"
            ],
            "image/png": "[encoded data removed]"
          },
          "metadata": {
            "needs_background": "light"
          }
        },
        {
          "output_type": "stream",
          "name": "stdout",
          "text": [
            "Action at time 1: Write Code\n",
            "Reward at time 1: Null\n"
          ]
        },
        {
          "output_type": "display_data",
          "data": {
            "text/plain": [
              "<Figure size 432x288 with 1 Axes>"
            ],
            "image/png": "[encoded data removed]"
          },
          "metadata": {
            "needs_background": "light"
          }
        },
        {
          "output_type": "stream",
          "name": "stdout",
          "text": [
            "Action at time 2: Write Code\n",
            "Reward at time 2: Null\n"
          ]
        },
        {
          "output_type": "display_data",
          "data": {
            "text/plain": [
              "<Figure size 432x288 with 1 Axes>"
            ],
            "image/png": "[encoded data removed]"
          },
          "metadata": {
            "needs_background": "light"
          }
        },
        {
          "output_type": "stream",
          "name": "stdout",
          "text": [
            "Action at time 3: Write Code\n",
            "Reward at time 3: Null\n"
          ]
        },
        {
          "output_type": "display_data",
          "data": {
            "text/plain": [
              "<Figure size 432x288 with 1 Axes>"
            ],
            "image/png": "[encoded data removed]"
          },
          "metadata": {
            "needs_background": "light"
          }
        },
        {
          "output_type": "stream",
          "name": "stdout",
          "text": [
            "Action at time 4: Write Code\n",
            "Reward at time 4: Null\n"
          ]
        },
        {
          "output_type": "display_data",
          "data": {
            "text/plain": [
              "<Figure size 432x288 with 1 Axes>"
            ],
            "image/png": "[encoded data removed]"
          },
          "metadata": {
            "needs_background": "light"
          }
        },
        {
          "output_type": "stream",
          "name": "stdout",
          "text": [
            "Action at time 5: Write Code\n",
            "Reward at time 5: Null\n"
          ]
        },
        {
          "output_type": "display_data",
          "data": {
            "text/plain": [
              "<Figure size 432x288 with 1 Axes>"
            ],
            "image/png": "[encoded data removed]"
          },
          "metadata": {
            "needs_background": "light"
          }
        },
        {
          "output_type": "stream",
          "name": "stdout",
          "text": [
            "Action at time 6: Write Code\n",
            "Reward at time 6: Null\n"
          ]
        },
        {
          "output_type": "display_data",
          "data": {
            "text/plain": [
              "<Figure size 432x288 with 1 Axes>"
            ],
            "image/png": "[encoded data removed]"
          },
          "metadata": {
            "needs_background": "light"
          }
        },
        {
          "output_type": "stream",
          "name": "stdout",
          "text": [
            "Action at time 7: Create Issue\n",
            "Reward at time 7: Null\n"
          ]
        },
        {
          "output_type": "display_data",
          "data": {
            "text/plain": [
              "<Figure size 432x288 with 1 Axes>"
            ],
            "image/png": "[encoded data removed]"
          },
          "metadata": {
            "needs_background": "light"
          }
        },
        {
          "output_type": "stream",
          "name": "stdout",
          "text": [
            "Action at time 8: Write Code\n",
            "Reward at time 8: Null\n"
          ]
        },
        {
          "output_type": "display_data",
          "data": {
            "text/plain": [
              "<Figure size 432x288 with 1 Axes>"
            ],
            "image/png": "[encoded data removed]"
          },
          "metadata": {
            "needs_background": "light"
          }
        },
        {
          "output_type": "stream",
          "name": "stdout",
          "text": [
            "Action at time 9: Write Code\n",
            "Reward at time 9: Null\n"
          ]
        }
      ],
      "source": [
        "\n",
        "p_horizon_env = 1.0\n",
        "p_reward_env = 0.7\n",
        "env = CommunityMember(p_horizon = p_horizon_env, p_reward = p_reward_env)\n",
        "print(f'Context: {env.context}')\n",
        "\n",
        "T = 10\n",
        "\n",
        "# my_agent = Agent(A = A, B = B, C = C, D = D) # in case you want to re-define the agent, you can run this again\n",
        "\n",
        "run_active_inference_loop(my_agent, env, T = T)"
      ]
    },
    {
      "cell_type": "markdown",
      "metadata": {
        "id": "scuxk92i3Mef"
      },
      "source": [
        "Now let's try manipulating the agent's prior preferences over reward observations ($\\mathbf{C}[1]$) in order to examine the tension between exploration and exploitation."
      ]
    },
    {
      "cell_type": "code",
      "execution_count": 80,
      "metadata": {
        "id": "B1XpcHlX3Gnj",
        "outputId": "3f6cd2f9-aaee-4e3a-e9ff-89727662a756",
        "colab": {
          "base_uri": "https://localhost:8080/",
          "height": 1000
        }
      },
      "outputs": [
        {
          "output_type": "stream",
          "name": "stdout",
          "text": [
            "Context: Eng Med\n"
          ]
        },
        {
          "output_type": "display_data",
          "data": {
            "text/plain": [
              "<Figure size 432x288 with 1 Axes>"
            ],
            "image/png": "[encoded data removed]"
          },
          "metadata": {
            "needs_background": "light"
          }
        },
        {
          "output_type": "stream",
          "name": "stdout",
          "text": [
            "Action at time 0: Write Code\n",
            "Reward at time 0: Null\n"
          ]
        },
        {
          "output_type": "display_data",
          "data": {
            "text/plain": [
              "<Figure size 432x288 with 1 Axes>"
            ],
            "image/png": "[encoded data removed]"
          },
          "metadata": {
            "needs_background": "light"
          }
        },
        {
          "output_type": "stream",
          "name": "stdout",
          "text": [
            "Action at time 1: Write Code\n",
            "Reward at time 1: Null\n"
          ]
        },
        {
          "output_type": "display_data",
          "data": {
            "text/plain": [
              "<Figure size 432x288 with 1 Axes>"
            ],
            "image/png": "[encoded data removed]"
          },
          "metadata": {
            "needs_background": "light"
          }
        },
        {
          "output_type": "stream",
          "name": "stdout",
          "text": [
            "Action at time 2: Write Code\n",
            "Reward at time 2: Null\n"
          ]
        },
        {
          "output_type": "display_data",
          "data": {
            "text/plain": [
              "<Figure size 432x288 with 1 Axes>"
            ],
            "image/png": "[encoded data removed]"
          },
          "metadata": {
            "needs_background": "light"
          }
        },
        {
          "output_type": "stream",
          "name": "stdout",
          "text": [
            "Action at time 3: Write Code\n",
            "Reward at time 3: Null\n"
          ]
        },
        {
          "output_type": "display_data",
          "data": {
            "text/plain": [
              "<Figure size 432x288 with 1 Axes>"
            ],
            "image/png": "[encoded data removed]"
          },
          "metadata": {
            "needs_background": "light"
          }
        },
        {
          "output_type": "stream",
          "name": "stdout",
          "text": [
            "Action at time 4: Write Code\n",
            "Reward at time 4: Null\n"
          ]
        },
        {
          "output_type": "display_data",
          "data": {
            "text/plain": [
              "<Figure size 432x288 with 1 Axes>"
            ],
            "image/png": "[encoded data removed]"
          },
          "metadata": {
            "needs_background": "light"
          }
        },
        {
          "output_type": "stream",
          "name": "stdout",
          "text": [
            "Action at time 5: Create Issue\n",
            "Reward at time 5: Null\n"
          ]
        },
        {
          "output_type": "display_data",
          "data": {
            "text/plain": [
              "<Figure size 432x288 with 1 Axes>"
            ],
            "image/png": "[encoded data removed]"
          },
          "metadata": {
            "needs_background": "light"
          }
        },
        {
          "output_type": "stream",
          "name": "stdout",
          "text": [
            "Action at time 6: Write Code\n",
            "Reward at time 6: Null\n"
          ]
        },
        {
          "output_type": "display_data",
          "data": {
            "text/plain": [
              "<Figure size 432x288 with 1 Axes>"
            ],
            "image/png": "[encoded data removed]"
          },
          "metadata": {
            "needs_background": "light"
          }
        },
        {
          "output_type": "stream",
          "name": "stdout",
          "text": [
            "Action at time 7: Write Code\n",
            "Reward at time 7: Null\n"
          ]
        },
        {
          "output_type": "display_data",
          "data": {
            "text/plain": [
              "<Figure size 432x288 with 1 Axes>"
            ],
            "image/png": "[encoded data removed]"
          },
          "metadata": {
            "needs_background": "light"
          }
        },
        {
          "output_type": "stream",
          "name": "stdout",
          "text": [
            "Action at time 8: Write Code\n",
            "Reward at time 8: Null\n"
          ]
        },
        {
          "output_type": "display_data",
          "data": {
            "text/plain": [
              "<Figure size 432x288 with 1 Axes>"
            ],
            "image/png": "[encoded data removed]"
          },
          "metadata": {
            "needs_background": "light"
          }
        },
        {
          "output_type": "stream",
          "name": "stdout",
          "text": [
            "Action at time 9: Write Code\n",
            "Reward at time 9: Null\n"
          ]
        }
      ],
      "source": [
        "# change the 'shape' of the agent's reward function\n",
        "C[1][1] = 0.0 # makes the Loss \"less aversive\" than before (higher prior prior probability assigned to seeing the Loss outcome). This should make the agent less risk-averse / willing to explore both arms, under uncertainty\n",
        "\n",
        "my_agent = Agent(A = A, B = B, C = C, D = D) # redefine the agent with the new preferences\n",
        "env = CommunityMember(p_horizon = 0.8, p_reward = 0.8) # re-initialize the environment -- this time, the hint is not always accurate (`p_hint = 0.8`)\n",
        "print(f'Context: {env.context}')\n",
        "\n",
        "run_active_inference_loop(my_agent, env, T = T)"
      ]
    }
  ],
  "metadata": {
    "colab": {
      "collapsed_sections": [],
      "name": "Active Inference Agent OSDC",
      "provenance": [],
      "include_colab_link": true
    },
    "kernelspec": {
      "display_name": "Python 3",
      "name": "python3"
    },
    "language_info": {
      "codemirror_mode": {
        "name": "ipython",
        "version": 3
      },
      "file_extension": ".py",
      "mimetype": "text/x-python",
      "name": "python",
      "nbconvert_exporter": "python",
      "pygments_lexer": "ipython3",
      "version": "3.7.10"
    }
  },
  "nbformat": 4,
  "nbformat_minor": 0
}